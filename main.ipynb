{
  "nbformat": 4,
  "nbformat_minor": 0,
  "metadata": {
    "colab": {
      "name": "predict_churn_risk",
      "provenance": [],
      "mount_file_id": "11CymEWNyV795P9JohPB_BDNrmnIuQLGA",
      "authorship_tag": "ABX9TyMviTSE1VmKiXz5fpY4tNos",
      "include_colab_link": true
    },
    "kernelspec": {
      "name": "python3",
      "display_name": "Python 3"
    },
    "language_info": {
      "name": "python"
    }
  },
  "cells": [
    {
      "cell_type": "markdown",
      "metadata": {
        "id": "view-in-github",
        "colab_type": "text"
      },
      "source": [
        "<a href=\"https://colab.research.google.com/github/zzong2006/predict_churn_risk_rate/blob/main/main.ipynb\" target=\"_parent\"><img src=\"https://colab.research.google.com/assets/colab-badge.svg\" alt=\"Open In Colab\"/></a>"
      ]
    },
    {
      "cell_type": "markdown",
      "metadata": {
        "id": "n4VNALBwMCUD"
      },
      "source": [
        "# Predicting Churn rate\n",
        "\n",
        "고객들의 정보를 활용하여 이탈율(churn rate)을 추정하는 문제\n",
        "\n",
        "[문제 링크](https://www.hackerearth.com/challenges/competitive/hackerearth-machine-learning-challenge-predict-customer-churn/instructions/)"
      ]
    },
    {
      "cell_type": "code",
      "metadata": {
        "id": "gPWS-QO1Jd1k"
      },
      "source": [
        "import pandas as pd\n",
        "import numpy as np"
      ],
      "execution_count": 29,
      "outputs": []
    },
    {
      "cell_type": "markdown",
      "metadata": {
        "id": "JMjMl4uyLoZX"
      },
      "source": [
        "# 데이터 불러오기"
      ]
    },
    {
      "cell_type": "code",
      "metadata": {
        "id": "oYIwxE-HKw3_"
      },
      "source": [
        "train_data_path = 'train.csv'\n",
        "test_data_path = 'test.csv'\n",
        "\n",
        "train_df = pd.read_csv(filepath_or_buffer=train_data_path)\n",
        "test_df = pd.read_csv(filepath_or_buffer=test_data_path)"
      ],
      "execution_count": 77,
      "outputs": []
    },
    {
      "cell_type": "markdown",
      "metadata": {
        "id": "XSucUdEzVZOU"
      },
      "source": [
        "불러온 학습 데이터 확인 "
      ]
    },
    {
      "cell_type": "code",
      "metadata": {
        "colab": {
          "base_uri": "https://localhost:8080/"
        },
        "id": "V5znNJIpVVwb",
        "outputId": "324c5fbc-95b9-41da-b24d-72a3eea80977"
      },
      "source": [
        "print(train_df.shape)\n",
        "print(train_df.columns)"
      ],
      "execution_count": 78,
      "outputs": [
        {
          "output_type": "stream",
          "text": [
            "(36992, 25)\n",
            "Index(['customer_id', 'Name', 'age', 'gender', 'security_no',\n",
            "       'region_category', 'membership_category', 'joining_date',\n",
            "       'joined_through_referral', 'referral_id', 'preferred_offer_types',\n",
            "       'medium_of_operation', 'internet_option', 'last_visit_time',\n",
            "       'days_since_last_login', 'avg_time_spent', 'avg_transaction_value',\n",
            "       'avg_frequency_login_days', 'points_in_wallet', 'used_special_discount',\n",
            "       'offer_application_preference', 'past_complaint', 'complaint_status',\n",
            "       'feedback', 'churn_risk_score'],\n",
            "      dtype='object')\n"
          ],
          "name": "stdout"
        }
      ]
    },
    {
      "cell_type": "markdown",
      "metadata": {
        "id": "XP47wPoFVbZS"
      },
      "source": [
        "불러온 테스트 데이터 확인 "
      ]
    },
    {
      "cell_type": "code",
      "metadata": {
        "colab": {
          "base_uri": "https://localhost:8080/"
        },
        "id": "z7t4gUPEVWVx",
        "outputId": "8e757881-a1eb-4277-f616-e156bfa9d1a0"
      },
      "source": [
        "print(test_df.shape)\n",
        "print(test_df.columns)"
      ],
      "execution_count": 79,
      "outputs": [
        {
          "output_type": "stream",
          "text": [
            "(19919, 24)\n",
            "Index(['customer_id', 'Name', 'age', 'gender', 'security_no',\n",
            "       'region_category', 'membership_category', 'joining_date',\n",
            "       'joined_through_referral', 'referral_id', 'preferred_offer_types',\n",
            "       'medium_of_operation', 'internet_option', 'last_visit_time',\n",
            "       'days_since_last_login', 'avg_time_spent', 'avg_transaction_value',\n",
            "       'avg_frequency_login_days', 'points_in_wallet', 'used_special_discount',\n",
            "       'offer_application_preference', 'past_complaint', 'complaint_status',\n",
            "       'feedback'],\n",
            "      dtype='object')\n"
          ],
          "name": "stdout"
        }
      ]
    },
    {
      "cell_type": "markdown",
      "metadata": {
        "id": "EnKxgHy3NThc"
      },
      "source": [
        "사용자 정보 중에서 필요해 보이는 정보들만 가져온다."
      ]
    },
    {
      "cell_type": "code",
      "metadata": {
        "colab": {
          "base_uri": "https://localhost:8080/"
        },
        "id": "9ZgvCXfnLes4",
        "outputId": "5a0b9801-186d-4376-c403-12871879ecfd"
      },
      "source": [
        "def features_engineering(df, train_data=True):\n",
        "    features = ['gender', 'region_category', 'membership_category', \n",
        "                'days_since_last_login', 'avg_time_spent', 'avg_transaction_value', \n",
        "                'points_in_wallet', 'used_special_discount', \n",
        "                'offer_application_preference', 'past_complaint', \n",
        "                'complaint_status', 'feedback']\n",
        "\n",
        "    # 학습 데이터 생성\n",
        "    if train_data:\n",
        "        y = df['churn_risk_score']\n",
        "    else:\n",
        "        y = None\n",
        "    x = df[features]\n",
        "\n",
        "    # 일부 feature에 포함된 Nan 값 정리\n",
        "    x[x['gender'] == 'Unknown'] = np.nan  # gender 특성 중 Unknown 값이 존재함\n",
        "    num_columns = x.select_dtypes(['int64', 'float64']).columns\n",
        "    x[num_columns] = x[num_columns].fillna(x[num_columns].mean())\n",
        "\n",
        "    # 데이터 타입 변환\n",
        "    # Category\n",
        "    categorical_features = ['gender', 'region_category', 'membership_category', \n",
        "                            'used_special_discount',\n",
        "                            'offer_application_preference', 'past_complaint', \n",
        "                            'complaint_status', 'feedback']\n",
        "    for ctf in categorical_features:\n",
        "        x[ctf] = pd.Categorical(x[ctf])\n",
        "    return x, y\n",
        "\n",
        "train_x, train_y = features_engineering(train_df)\n",
        "test_x, test_y = features_engineering(test_df, train_data=False)"
      ],
      "execution_count": 179,
      "outputs": [
        {
          "output_type": "stream",
          "text": [
            "/usr/local/lib/python3.7/dist-packages/ipykernel_launcher.py:16: SettingWithCopyWarning: \n",
            "A value is trying to be set on a copy of a slice from a DataFrame.\n",
            "Try using .loc[row_indexer,col_indexer] = value instead\n",
            "\n",
            "See the caveats in the documentation: https://pandas.pydata.org/pandas-docs/stable/user_guide/indexing.html#returning-a-view-versus-a-copy\n",
            "  app.launch_new_instance()\n",
            "/usr/local/lib/python3.7/dist-packages/pandas/core/indexing.py:1763: SettingWithCopyWarning: \n",
            "A value is trying to be set on a copy of a slice from a DataFrame.\n",
            "Try using .loc[row_indexer,col_indexer] = value instead\n",
            "\n",
            "See the caveats in the documentation: https://pandas.pydata.org/pandas-docs/stable/user_guide/indexing.html#returning-a-view-versus-a-copy\n",
            "  isetter(loc, value)\n",
            "/usr/local/lib/python3.7/dist-packages/pandas/core/frame.py:3069: SettingWithCopyWarning: \n",
            "A value is trying to be set on a copy of a slice from a DataFrame.\n",
            "Try using .loc[row_indexer,col_indexer] = value instead\n",
            "\n",
            "See the caveats in the documentation: https://pandas.pydata.org/pandas-docs/stable/user_guide/indexing.html#returning-a-view-versus-a-copy\n",
            "  self[k1] = value[k2]\n",
            "/usr/local/lib/python3.7/dist-packages/ipykernel_launcher.py:33: SettingWithCopyWarning: \n",
            "A value is trying to be set on a copy of a slice from a DataFrame.\n",
            "Try using .loc[row_indexer,col_indexer] = value instead\n",
            "\n",
            "See the caveats in the documentation: https://pandas.pydata.org/pandas-docs/stable/user_guide/indexing.html#returning-a-view-versus-a-copy\n"
          ],
          "name": "stderr"
        }
      ]
    },
    {
      "cell_type": "markdown",
      "metadata": {
        "id": "Ays-RJdbSjI6"
      },
      "source": [
        "`SettingWithCopyWarning` 는 무시해도 된다.\n",
        "\n",
        "이제 변환된 카테고리 데이터를 확인해보자."
      ]
    },
    {
      "cell_type": "code",
      "metadata": {
        "colab": {
          "base_uri": "https://localhost:8080/"
        },
        "id": "-rhgqUFISyaT",
        "outputId": "9fb1a06d-836c-485d-c749-5a46fd50cc3f"
      },
      "source": [
        "for col in train_x:\n",
        "    if train_x[col].dtype.name == 'category':\n",
        "        print('Category] ', col, ':', train_x[col].cat.categories )\n",
        "    if train_x[col].dtype.name == 'object':\n",
        "        print('Object] ', col, ':', train_x[col].unique() )"
      ],
      "execution_count": 180,
      "outputs": [
        {
          "output_type": "stream",
          "text": [
            "Category]  gender : Index(['F', 'M'], dtype='object')\n",
            "Category]  region_category : Index(['City', 'Town', 'Village'], dtype='object')\n",
            "Category]  membership_category : Index(['Basic Membership', 'Gold Membership', 'No Membership',\n",
            "       'Platinum Membership', 'Premium Membership', 'Silver Membership'],\n",
            "      dtype='object')\n",
            "Category]  used_special_discount : Index(['No', 'Yes'], dtype='object')\n",
            "Category]  offer_application_preference : Index(['No', 'Yes'], dtype='object')\n",
            "Category]  past_complaint : Index(['No', 'Yes'], dtype='object')\n",
            "Category]  complaint_status : Index(['No Information Available', 'Not Applicable', 'Solved',\n",
            "       'Solved in Follow-up', 'Unsolved'],\n",
            "      dtype='object')\n",
            "Category]  feedback : Index(['No reason specified', 'Poor Customer Service', 'Poor Product Quality',\n",
            "       'Poor Website', 'Products always in Stock', 'Quality Customer Care',\n",
            "       'Reasonable Price', 'Too many ads', 'User Friendly Website'],\n",
            "      dtype='object')\n"
          ],
          "name": "stdout"
        }
      ]
    },
    {
      "cell_type": "code",
      "metadata": {
        "colab": {
          "base_uri": "https://localhost:8080/"
        },
        "id": "C7LJTDF2eKxi",
        "outputId": "38bb6ea3-3d29-4a0a-b708-ca8645212715"
      },
      "source": [
        "# 학습 데이터의 Nan값 확인\n",
        "train_x.select_dtypes(['float64', 'int64', 'category']).isna().sum()"
      ],
      "execution_count": 181,
      "outputs": [
        {
          "output_type": "execute_result",
          "data": {
            "text/plain": [
              "gender                            59\n",
              "region_category                 5479\n",
              "membership_category               59\n",
              "days_since_last_login              0\n",
              "avg_time_spent                     0\n",
              "avg_transaction_value              0\n",
              "points_in_wallet                   0\n",
              "used_special_discount             59\n",
              "offer_application_preference      59\n",
              "past_complaint                    59\n",
              "complaint_status                  59\n",
              "feedback                          59\n",
              "dtype: int64"
            ]
          },
          "metadata": {
            "tags": []
          },
          "execution_count": 181
        }
      ]
    },
    {
      "cell_type": "code",
      "metadata": {
        "colab": {
          "base_uri": "https://localhost:8080/"
        },
        "id": "JeuFn5_VlG6q",
        "outputId": "b256fdc6-a24d-4330-866a-55514d4a84ba"
      },
      "source": [
        "test_x.select_dtypes(['float64', 'int64', 'category']).isna().sum()"
      ],
      "execution_count": 182,
      "outputs": [
        {
          "output_type": "execute_result",
          "data": {
            "text/plain": [
              "gender                            36\n",
              "region_category                 2981\n",
              "membership_category               36\n",
              "days_since_last_login              0\n",
              "avg_time_spent                     0\n",
              "avg_transaction_value              0\n",
              "points_in_wallet                   0\n",
              "used_special_discount             36\n",
              "offer_application_preference      36\n",
              "past_complaint                    36\n",
              "complaint_status                  36\n",
              "feedback                          36\n",
              "dtype: int64"
            ]
          },
          "metadata": {
            "tags": []
          },
          "execution_count": 182
        }
      ]
    },
    {
      "cell_type": "markdown",
      "metadata": {
        "id": "EuHwK8B2eBBC"
      },
      "source": [
        "`region_category` 에 포함된 `Nan`값이 많은것 같은데, 카테고리 데이터라 정리할 방법을 잘 모르겠다.\n",
        "어차피 labeling을 하면, 다른 값들은 `0 ~ N-1` 까지로 치환되고, `Nan` 값은 `-1`로 바꿔지긴 한다."
      ]
    },
    {
      "cell_type": "code",
      "metadata": {
        "colab": {
          "base_uri": "https://localhost:8080/",
          "height": 404
        },
        "id": "xSpzsFn4izCC",
        "outputId": "2cf14255-2e8e-4154-87c2-af8d77e3befb"
      },
      "source": [
        "cat_columns = train_x.select_dtypes(['category']).columns\n",
        "\n",
        "print('Convert {} to Numeric dtype'.format(cat_columns))\n",
        "\n",
        "train_x[cat_columns] = train_x[cat_columns].apply(lambda x: x.cat.codes)\n",
        "test_x[cat_columns] = test_x[cat_columns].apply(lambda x: x.cat.codes)\n",
        "train_x.head()"
      ],
      "execution_count": 183,
      "outputs": [
        {
          "output_type": "stream",
          "text": [
            "Convert Index(['gender', 'region_category', 'membership_category',\n",
            "       'used_special_discount', 'offer_application_preference',\n",
            "       'past_complaint', 'complaint_status', 'feedback'],\n",
            "      dtype='object') to Numeric dtype\n"
          ],
          "name": "stdout"
        },
        {
          "output_type": "stream",
          "text": [
            "/usr/local/lib/python3.7/dist-packages/pandas/core/frame.py:3069: SettingWithCopyWarning: \n",
            "A value is trying to be set on a copy of a slice from a DataFrame.\n",
            "Try using .loc[row_indexer,col_indexer] = value instead\n",
            "\n",
            "See the caveats in the documentation: https://pandas.pydata.org/pandas-docs/stable/user_guide/indexing.html#returning-a-view-versus-a-copy\n",
            "  self[k1] = value[k2]\n"
          ],
          "name": "stderr"
        },
        {
          "output_type": "execute_result",
          "data": {
            "text/html": [
              "<div>\n",
              "<style scoped>\n",
              "    .dataframe tbody tr th:only-of-type {\n",
              "        vertical-align: middle;\n",
              "    }\n",
              "\n",
              "    .dataframe tbody tr th {\n",
              "        vertical-align: top;\n",
              "    }\n",
              "\n",
              "    .dataframe thead th {\n",
              "        text-align: right;\n",
              "    }\n",
              "</style>\n",
              "<table border=\"1\" class=\"dataframe\">\n",
              "  <thead>\n",
              "    <tr style=\"text-align: right;\">\n",
              "      <th></th>\n",
              "      <th>gender</th>\n",
              "      <th>region_category</th>\n",
              "      <th>membership_category</th>\n",
              "      <th>days_since_last_login</th>\n",
              "      <th>avg_time_spent</th>\n",
              "      <th>avg_transaction_value</th>\n",
              "      <th>points_in_wallet</th>\n",
              "      <th>used_special_discount</th>\n",
              "      <th>offer_application_preference</th>\n",
              "      <th>past_complaint</th>\n",
              "      <th>complaint_status</th>\n",
              "      <th>feedback</th>\n",
              "    </tr>\n",
              "  </thead>\n",
              "  <tbody>\n",
              "    <tr>\n",
              "      <th>0</th>\n",
              "      <td>0</td>\n",
              "      <td>2</td>\n",
              "      <td>3</td>\n",
              "      <td>17.0</td>\n",
              "      <td>300.63</td>\n",
              "      <td>53005.25</td>\n",
              "      <td>781.750000</td>\n",
              "      <td>1</td>\n",
              "      <td>1</td>\n",
              "      <td>0</td>\n",
              "      <td>1</td>\n",
              "      <td>4</td>\n",
              "    </tr>\n",
              "    <tr>\n",
              "      <th>1</th>\n",
              "      <td>0</td>\n",
              "      <td>0</td>\n",
              "      <td>4</td>\n",
              "      <td>16.0</td>\n",
              "      <td>306.34</td>\n",
              "      <td>12838.38</td>\n",
              "      <td>686.872648</td>\n",
              "      <td>1</td>\n",
              "      <td>0</td>\n",
              "      <td>1</td>\n",
              "      <td>2</td>\n",
              "      <td>5</td>\n",
              "    </tr>\n",
              "    <tr>\n",
              "      <th>2</th>\n",
              "      <td>0</td>\n",
              "      <td>1</td>\n",
              "      <td>2</td>\n",
              "      <td>14.0</td>\n",
              "      <td>516.16</td>\n",
              "      <td>21027.00</td>\n",
              "      <td>500.690000</td>\n",
              "      <td>0</td>\n",
              "      <td>1</td>\n",
              "      <td>1</td>\n",
              "      <td>3</td>\n",
              "      <td>3</td>\n",
              "    </tr>\n",
              "    <tr>\n",
              "      <th>3</th>\n",
              "      <td>1</td>\n",
              "      <td>0</td>\n",
              "      <td>2</td>\n",
              "      <td>11.0</td>\n",
              "      <td>53.27</td>\n",
              "      <td>25239.56</td>\n",
              "      <td>567.660000</td>\n",
              "      <td>0</td>\n",
              "      <td>1</td>\n",
              "      <td>1</td>\n",
              "      <td>4</td>\n",
              "      <td>3</td>\n",
              "    </tr>\n",
              "    <tr>\n",
              "      <th>4</th>\n",
              "      <td>0</td>\n",
              "      <td>0</td>\n",
              "      <td>2</td>\n",
              "      <td>20.0</td>\n",
              "      <td>113.13</td>\n",
              "      <td>24483.66</td>\n",
              "      <td>663.060000</td>\n",
              "      <td>0</td>\n",
              "      <td>1</td>\n",
              "      <td>1</td>\n",
              "      <td>2</td>\n",
              "      <td>3</td>\n",
              "    </tr>\n",
              "  </tbody>\n",
              "</table>\n",
              "</div>"
            ],
            "text/plain": [
              "   gender  region_category  ...  complaint_status  feedback\n",
              "0       0                2  ...                 1         4\n",
              "1       0                0  ...                 2         5\n",
              "2       0                1  ...                 3         3\n",
              "3       1                0  ...                 4         3\n",
              "4       0                0  ...                 2         3\n",
              "\n",
              "[5 rows x 12 columns]"
            ]
          },
          "metadata": {
            "tags": []
          },
          "execution_count": 183
        }
      ]
    },
    {
      "cell_type": "markdown",
      "metadata": {
        "id": "j3Q0TnotWtRa"
      },
      "source": [
        "# 모델 생성\n",
        "RandomForest를 이용한 예측을 수행해보자."
      ]
    },
    {
      "cell_type": "code",
      "metadata": {
        "colab": {
          "base_uri": "https://localhost:8080/"
        },
        "id": "IbB2UDbYW1OZ",
        "outputId": "f54cbed7-b377-46ea-dfa3-8ba94b5f3cfe"
      },
      "source": [
        "from sklearn.ensemble import RandomForestClassifier\n",
        "\n",
        "rfc_model = RandomForestClassifier(max_depth=len(train_x.columns), random_state=0)\n",
        "rfc_model.fit(train_x, train_y)"
      ],
      "execution_count": 173,
      "outputs": [
        {
          "output_type": "execute_result",
          "data": {
            "text/plain": [
              "RandomForestClassifier(bootstrap=True, ccp_alpha=0.0, class_weight=None,\n",
              "                       criterion='gini', max_depth=12, max_features='auto',\n",
              "                       max_leaf_nodes=None, max_samples=None,\n",
              "                       min_impurity_decrease=0.0, min_impurity_split=None,\n",
              "                       min_samples_leaf=1, min_samples_split=2,\n",
              "                       min_weight_fraction_leaf=0.0, n_estimators=100,\n",
              "                       n_jobs=None, oob_score=False, random_state=0, verbose=0,\n",
              "                       warm_start=False)"
            ]
          },
          "metadata": {
            "tags": []
          },
          "execution_count": 173
        }
      ]
    },
    {
      "cell_type": "markdown",
      "metadata": {
        "id": "4D6eZaganXcf"
      },
      "source": [
        "학습을 끝냈으니 예측을 수행해보자."
      ]
    },
    {
      "cell_type": "code",
      "metadata": {
        "colab": {
          "base_uri": "https://localhost:8080/"
        },
        "id": "YHJIzeDFkq3V",
        "outputId": "0712a5b7-58e7-4812-e1f3-5a25c2ba2477"
      },
      "source": [
        "sum(rfc_model.predict(train_x) == train_y) / len(train_x)"
      ],
      "execution_count": 187,
      "outputs": [
        {
          "output_type": "execute_result",
          "data": {
            "text/plain": [
              "0.8556174307958477"
            ]
          },
          "metadata": {
            "tags": []
          },
          "execution_count": 187
        }
      ]
    },
    {
      "cell_type": "markdown",
      "metadata": {
        "id": "W8DDh6-VnkMl"
      },
      "source": [
        "학습 데이터에 대해서는 85% 정도의 정확도를 보인다."
      ]
    },
    {
      "cell_type": "markdown",
      "metadata": {
        "id": "aytPynAkn2o6"
      },
      "source": [
        "# Submission 생성"
      ]
    },
    {
      "cell_type": "code",
      "metadata": {
        "colab": {
          "base_uri": "https://localhost:8080/",
          "height": 204
        },
        "id": "kzVX5IBonnJY",
        "outputId": "d12bc628-597b-47fa-c9c0-777e9590864c"
      },
      "source": [
        "submission = pd.DataFrame(data=[test_df['customer_id'].to_numpy(), rfc_model.predict(test_x)], index=['customer_id','churn_risk_score']).T\n",
        "\n",
        "submission.head()"
      ],
      "execution_count": 199,
      "outputs": [
        {
          "output_type": "execute_result",
          "data": {
            "text/html": [
              "<div>\n",
              "<style scoped>\n",
              "    .dataframe tbody tr th:only-of-type {\n",
              "        vertical-align: middle;\n",
              "    }\n",
              "\n",
              "    .dataframe tbody tr th {\n",
              "        vertical-align: top;\n",
              "    }\n",
              "\n",
              "    .dataframe thead th {\n",
              "        text-align: right;\n",
              "    }\n",
              "</style>\n",
              "<table border=\"1\" class=\"dataframe\">\n",
              "  <thead>\n",
              "    <tr style=\"text-align: right;\">\n",
              "      <th></th>\n",
              "      <th>customer_id</th>\n",
              "      <th>churn_risk_score</th>\n",
              "    </tr>\n",
              "  </thead>\n",
              "  <tbody>\n",
              "    <tr>\n",
              "      <th>0</th>\n",
              "      <td>fffe43004900440031003700300030003400</td>\n",
              "      <td>3</td>\n",
              "    </tr>\n",
              "    <tr>\n",
              "      <th>1</th>\n",
              "      <td>fffe43004900440031003900370037003300</td>\n",
              "      <td>3</td>\n",
              "    </tr>\n",
              "    <tr>\n",
              "      <th>2</th>\n",
              "      <td>fffe43004900440034003800360037003000</td>\n",
              "      <td>3</td>\n",
              "    </tr>\n",
              "    <tr>\n",
              "      <th>3</th>\n",
              "      <td>fffe43004900440036003200370033003400</td>\n",
              "      <td>3</td>\n",
              "    </tr>\n",
              "    <tr>\n",
              "      <th>4</th>\n",
              "      <td>fffe43004900440035003000370031003900</td>\n",
              "      <td>5</td>\n",
              "    </tr>\n",
              "  </tbody>\n",
              "</table>\n",
              "</div>"
            ],
            "text/plain": [
              "                            customer_id churn_risk_score\n",
              "0  fffe43004900440031003700300030003400                3\n",
              "1  fffe43004900440031003900370037003300                3\n",
              "2  fffe43004900440034003800360037003000                3\n",
              "3  fffe43004900440036003200370033003400                3\n",
              "4  fffe43004900440035003000370031003900                5"
            ]
          },
          "metadata": {
            "tags": []
          },
          "execution_count": 199
        }
      ]
    },
    {
      "cell_type": "code",
      "metadata": {
        "id": "I6fC07-homy2"
      },
      "source": [
        "submission.to_csv(path_or_buf='prediction.csv',index=False)"
      ],
      "execution_count": 201,
      "outputs": []
    },
    {
      "cell_type": "markdown",
      "metadata": {
        "id": "PloV4dUEpOaR"
      },
      "source": [
        "제출하니 `75.27`점을 받았다. 나는 100명 중 62 등이다. 실제로는 2000 명 정도 submission을 제출했지만, online score가 0점으로 대부분 허수다.\n",
        "\n",
        "1등의 점수는 `77.05954`점 이다."
      ]
    },
    {
      "cell_type": "markdown",
      "metadata": {
        "id": "H4jjHxLYpCLz"
      },
      "source": [
        "![prediction_score.png](data:image/png;base64,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)"
      ]
    }
  ]
}